{
 "cells": [
  {
   "cell_type": "code",
   "execution_count": null,
   "metadata": {},
   "outputs": [],
   "source": [
    "import decoder as dc\n",
    "import numpy as np\n",
    "import matplotlib.pyplot as plt"
   ]
  },
  {
   "cell_type": "code",
   "execution_count": 1,
   "metadata": {},
   "outputs": [
    {
     "ename": "NameError",
     "evalue": "name 'dc' is not defined",
     "output_type": "error",
     "traceback": [
      "\u001b[0;31m---------------------------------------------------------------------------\u001b[0m",
      "\u001b[0;31mNameError\u001b[0m                                 Traceback (most recent call last)",
      "\u001b[0;32m<ipython-input-1-c05a4b5d65b0>\u001b[0m in \u001b[0;36m<module>\u001b[0;34m()\u001b[0m\n\u001b[1;32m      1\u001b[0m \u001b[0;32mimport\u001b[0m \u001b[0mimportlib\u001b[0m\u001b[0;34m\u001b[0m\u001b[0m\n\u001b[0;32m----> 2\u001b[0;31m \u001b[0mimportlib\u001b[0m\u001b[0;34m.\u001b[0m\u001b[0mreload\u001b[0m\u001b[0;34m(\u001b[0m\u001b[0mdc\u001b[0m\u001b[0;34m)\u001b[0m\u001b[0;34m\u001b[0m\u001b[0m\n\u001b[0m",
      "\u001b[0;31mNameError\u001b[0m: name 'dc' is not defined"
     ]
    }
   ],
   "source": [
    "import importlib\n",
    "importlib.reload(dc)"
   ]
  },
  {
   "cell_type": "code",
   "execution_count": null,
   "metadata": {},
   "outputs": [],
   "source": [
    "# fn = '/Users/elyall/Dropbox/Data/7737_326_001.h5'\n",
    "fn = [\n",
    "    '/media/elyall/Data3/dFoFnew/7734_338_000.h5',\n",
    "    '/media/elyall/Data3/dFoFnew/7734_308_001.h5',\n",
    "    '/media/elyall/Data3/dFoFnew/7736_300_000.h5',\n",
    "    '/media/elyall/Data3/dFoFnew/7737_326_001.h5',\n",
    "]"
   ]
  },
  {
   "cell_type": "code",
   "execution_count": null,
   "metadata": {},
   "outputs": [],
   "source": [
    "# Load single mouse's data\n",
    "pred, perc_correct, number_of_neurons, StimLog, StimID, classifiers \\\n",
    "    = dc.load_output(fn[0])"
   ]
  },
  {
   "cell_type": "code",
   "execution_count": null,
   "metadata": {},
   "outputs": [],
   "source": [
    "# Display performance\n",
    "fig, ax = dc.plot_performance(perc_correct, number_of_neurons, classifiers)\n",
    "ax.set_xscale('log')\n",
    "ax.set_title(fn)\n",
    "\n",
    "# # Save plot\n",
    "# fig.savefig(ID + '_percCorrect.pdf')"
   ]
  },
  {
   "cell_type": "code",
   "execution_count": null,
   "metadata": {},
   "outputs": [],
   "source": [
    "# Display confusion matrices\n",
    "pred_id = dc.log_2_ID(pred, StimLog)\n",
    "dc.plot_confusion_matrices(pred_id, StimID, number_of_neurons, C=1)"
   ]
  },
  {
   "cell_type": "code",
   "execution_count": null,
   "metadata": {},
   "outputs": [],
   "source": [
    "# Load multiple mice's data\n",
    "pred, perc_correct, number_of_neurons, StimID, classifiers \\\n",
    "    = dc.load_mult(fn)"
   ]
  },
  {
   "cell_type": "code",
   "execution_count": null,
   "metadata": {},
   "outputs": [],
   "source": [
    "# Display performance\n",
    "fig, ax = dc.plot_performance_mult(perc_correct, number_of_neurons, classifiers)\n",
    "# [a.set_xscale('log') for a in ax]\n",
    "\n",
    "# # Save plot\n",
    "# fig.savefig(ID + '_percCorrect.pdf')"
   ]
  }
 ],
 "metadata": {
  "kernelspec": {
   "display_name": "Python 3",
   "language": "python",
   "name": "python3"
  },
  "language_info": {
   "codemirror_mode": {
    "name": "ipython",
    "version": 3
   },
   "file_extension": ".py",
   "mimetype": "text/x-python",
   "name": "python",
   "nbconvert_exporter": "python",
   "pygments_lexer": "ipython3",
   "version": "3.6.4"
  }
 },
 "nbformat": 4,
 "nbformat_minor": 2
}

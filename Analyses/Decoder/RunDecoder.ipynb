{
 "cells": [
  {
   "cell_type": "code",
   "execution_count": null,
   "metadata": {},
   "outputs": [],
   "source": [
    "import decoder as dc\n",
    "import numpy as np\n",
    "import matplotlib.pyplot as plt"
   ]
  },
  {
   "cell_type": "code",
   "execution_count": null,
   "metadata": {},
   "outputs": [],
   "source": [
    "import importlib\n",
    "importlib.reload(dc)"
   ]
  },
  {
   "cell_type": "code",
   "execution_count": null,
   "metadata": {},
   "outputs": [],
   "source": [
    "# Fit decoder\n",
    "save_out = True\n",
    "n_iter = 1\n",
    "pred, perc_correct, number_of_neurons, StimID, classifiers, \\\n",
    "    save_file = dc.main('/Users/elyall/Dropbox/Data/7737_326_001',\n",
    "                        '',n_iter=n_iter, save_out=save_out)"
   ]
  },
  {
   "cell_type": "code",
   "execution_count": null,
   "metadata": {},
   "outputs": [],
   "source": [
    "# Load single mouse's data\n",
    "save_file = '/Users/elyall/Dropbox/Data/7737_326_001.h5'\n",
    "pred, perc_correct, number_of_neurons, StimID, classifiers \\\n",
    "    = dc.load_output(save_file)"
   ]
  },
  {
   "cell_type": "code",
   "execution_count": null,
   "metadata": {},
   "outputs": [],
   "source": [
    "# Display performance\n",
    "fig, ax = dc.plot_performance(perc_correct, number_of_neurons, classifiers)\n",
    "ax.set_xscale('log')\n",
    "ax.set_title(save_file)\n",
    "\n",
    "# # Save plot\n",
    "# fig.savefig(ID + '_percCorrect.pdf')"
   ]
  },
  {
   "cell_type": "code",
   "execution_count": null,
   "metadata": {},
   "outputs": [],
   "source": [
    "# Load multiple mice's data\n",
    "pred, perc_correct, number_of_neurons, StimID, classifiers \\\n",
    "    = dc.load_mult([save_file, save_file])"
   ]
  },
  {
   "cell_type": "code",
   "execution_count": null,
   "metadata": {},
   "outputs": [],
   "source": [
    "# Display performance\n",
    "fig, ax = dc.plot_performance_mult(perc_correct, number_of_neurons, classifiers)\n",
    "[a.set_xscale('log') for a in ax]\n",
    "\n",
    "# # Save plot\n",
    "# fig.savefig(ID + '_percCorrect.pdf')"
   ]
  }
 ],
 "metadata": {
  "kernelspec": {
   "display_name": "Python 3",
   "language": "python",
   "name": "python3"
  },
  "language_info": {
   "codemirror_mode": {
    "name": "ipython",
    "version": 3
   },
   "file_extension": ".py",
   "mimetype": "text/x-python",
   "name": "python",
   "nbconvert_exporter": "python",
   "pygments_lexer": "ipython3",
   "version": "3.6.8"
  }
 },
 "nbformat": 4,
 "nbformat_minor": 2
}

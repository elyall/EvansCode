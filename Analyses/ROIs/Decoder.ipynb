{
 "cells": [
  {
   "cell_type": "code",
   "execution_count": 1,
   "metadata": {},
   "outputs": [
    {
     "name": "stderr",
     "output_type": "stream",
     "text": [
      "/Users/elyall/anaconda3/lib/python3.6/site-packages/h5py/__init__.py:36: FutureWarning: Conversion of the second argument of issubdtype from `float` to `np.floating` is deprecated. In future, it will be treated as `np.float64 == np.dtype(float).type`.\n",
      "  from ._conv import register_converters as _register_converters\n"
     ]
    }
   ],
   "source": [
    "import numpy as np\n",
    "import h5py\n",
    "from scipy.io import loadmat\n",
    "\n",
    "from sklearn.model_selection import StratifiedKFold\n",
    "from sklearn import linear_model\n",
    "from sklearn import metrics\n",
    "\n",
    "import matplotlib.pyplot as plt\n",
    "from ipywidgets import interact\n",
    "% matplotlib inline"
   ]
  },
  {
   "cell_type": "code",
   "execution_count": 2,
   "metadata": {},
   "outputs": [
    {
     "name": "stdout",
     "output_type": "stream",
     "text": [
      "/Users/elyall/Dropbox/Data/7737_291_000.exp\n",
      "/Users/elyall/Dropbox/Data/7737_291_000.rois\n",
      "[  1   2   3   4   6  10  16  25  40  63 100 158 251]\n"
     ]
    }
   ],
   "source": [
    "Dir = '/Users/elyall/Dropbox/Data/'\n",
    "# Dir = '/media/elyall/Data/7737/180118/'\n",
    "filebase = Dir + '7737_291_000'\n",
    "# depth = 1;\n",
    "\n",
    "expfile = filebase + '.exp'\n",
    "fn = filebase + '.rois'\n",
    "# fn = filebase + \"_%01d\" % depth + '.rois'\n",
    "print(expfile)\n",
    "print(fn)\n",
    "\n",
    "number_of_neurons = np.logspace(0,2.4,13).round().astype('int') # list of number of neurons to sample\n",
    "niter = 5      # number of replicates for N samples\n",
    "nfolds = 5     # cross-validation\n",
    "max_iter = 100 # regression convergence\n",
    "\n",
    "print(number_of_neurons)"
   ]
  },
  {
   "cell_type": "code",
   "execution_count": 127,
   "metadata": {},
   "outputs": [],
   "source": [
    "# Load StimID\n",
    "myfile = h5py.File(expfile,'r')\n",
    "StimID = myfle['/TrialInfo/StimID'].value[:]\n",
    "TrialIndex = myfile['TrialIndex'].value[:]\n",
    "myfile.close()\n",
    "\n",
    "# Load data\n",
    "myfile = h5py.File(fn,'r')\n",
    "numNeurons = len(myfile['ROIdata/rois/stimMean'])\n",
    "numTrials = len(myfile['ROIdata/DataInfo/StimID'][0])\n",
    "data = np.zeros([numTrials,numNeurons])\n",
    "for n in np.arange(numNeurons):\n",
    "    data[:,n] = myfile[myfile['ROIdata/rois/stimMean'][n][0]].value\n",
    "myfile.close()\n",
    "data = data[TrialIndex,:] # keep only desired trials\n",
    "\n",
    "# data = np.random.random([np.size(TrialIndex),100]) # fake data"
   ]
  },
  {
   "cell_type": "code",
   "execution_count": 55,
   "metadata": {},
   "outputs": [
    {
     "name": "stderr",
     "output_type": "stream",
     "text": [
      "/Users/elyall/anaconda3/lib/python3.6/site-packages/sklearn/linear_model/sag.py:326: ConvergenceWarning: The max_iter was reached which means the coef_ did not converge\n",
      "  \"the coef_ did not converge\", ConvergenceWarning)\n"
     ]
    }
   ],
   "source": [
    "# Compute logistic regression\n",
    "\n",
    "numTrials, numNeurons = np.shape(data)\n",
    "numX = np.size(number_of_neurons)\n",
    "\n",
    "pred = np.zeros([numTrials,niter,numX])\n",
    "perc_correct = np.zeros([niter,numX])\n",
    "\n",
    "for n, N in enumerate(number_of_neurons):\n",
    "    \n",
    "    for ind in np.arange(niter):\n",
    "\n",
    "        # pull out sample of neurons\n",
    "        my_sample = np.random.choice(range(numNeurons), N)\n",
    "        current = data[:,my_sample]\n",
    "\n",
    "        # fit Logistic Regression to random sample (using KFold cross-validation)\n",
    "        skf = StratifiedKFold(n_splits=nfolds)\n",
    "        for train_index, test_index in skf.split(current, StimID):\n",
    "            X_train, X_test = current[train_index,:], current[test_index,:]\n",
    "            y_train, y_test = StimID[train_index], StimID[test_index]\n",
    "\n",
    "            logreg = linear_model.LogisticRegression(max_iter=max_iter,solver='sag',multi_class='multinomial')\n",
    "\n",
    "            logreg.fit(X_train, np.ravel(y_train))\n",
    "\n",
    "            pred[test_index,ind,n] = logreg.predict(X_test)\n",
    "\n",
    "        perc_correct[ind,n] = metrics.accuracy_score(StimID, pred[:,ind,n])\n",
    "#         confusion_matrix = metrics.confusion_matrix(StimID, pred[:,ind,n])\n"
   ]
  },
  {
   "cell_type": "code",
   "execution_count": 74,
   "metadata": {},
   "outputs": [
    {
     "data": {
      "text/plain": [
       "Text(0.5,0,'# of Neurons')"
      ]
     },
     "execution_count": 74,
     "metadata": {},
     "output_type": "execute_result"
    },
    {
     "data": {
      "image/png": "[encoded data removed]",
      "text/plain": [
       "<Figure size 720x720 with 1 Axes>"
      ]
     },
     "metadata": {},
     "output_type": "display_data"
    }
   ],
   "source": [
    "fig, ax = plt.subplots(1,1,figsize=(10,10))\n",
    "ax.errorbar(number_of_neurons,np.mean(perc_correct,axis=0),yerr=1.96*np.std(perc_correct,axis=0))\n",
    "ax.set_ylabel('Percent Correct')\n",
    "ax.set_xlabel('# of Neurons')"
   ]
  }
 ],
 "metadata": {
  "kernelspec": {
   "display_name": "Python 3",
   "language": "python",
   "name": "python3"
  },
  "language_info": {
   "codemirror_mode": {
    "name": "ipython",
    "version": 3
   },
   "file_extension": ".py",
   "mimetype": "text/x-python",
   "name": "python",
   "nbconvert_exporter": "python",
   "pygments_lexer": "ipython3",
   "version": "3.6.5"
  }
 },
 "nbformat": 4,
 "nbformat_minor": 2
}

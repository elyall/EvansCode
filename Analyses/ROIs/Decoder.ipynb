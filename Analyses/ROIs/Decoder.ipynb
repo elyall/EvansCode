{
 "cells": [
  {
   "cell_type": "code",
   "execution_count": null,
   "metadata": {},
   "outputs": [],
   "source": [
    "import numpy as np\n",
    "import h5py\n",
    "from scipy.io import loadmat\n",
    "\n",
    "from sklearn.model_selection import StratifiedKFold\n",
    "from sklearn import linear_model\n",
    "from sklearn import metrics\n",
    "from distributed import Executor\n",
    "\n",
    "import matplotlib.pyplot as plt\n",
    "# from ipywidgets import interact\n",
    "% matplotlib inline"
   ]
  },
  {
   "cell_type": "code",
   "execution_count": null,
   "metadata": {},
   "outputs": [],
   "source": [
    "# filebase = '/Users/elyall/Dropbox/Data/7737_291_000'\n",
    "filebase = '/media/elyall/Data/7737/180118/7737_291_000'\n",
    "# filebase = '/media/elyall/Data/7142/170710/7142_220_002'\n",
    "depth = [1,2,3,4];\n",
    "\n",
    "expfile = filebase + '.exp'\n",
    "fn = [filebase + '.rois']\n",
    "# fn = [filebase + \"_depth%01d\" % d + '.rois' for d in depth]\n",
    "print(expfile)\n",
    "print(fn)\n",
    "\n",
    "number_of_neurons = np.logspace(0,2.5,13).round().astype('int') # list of number of neurons to sample\n",
    "n_iter = 5     # number of replicates for N samples\n",
    "n_splits = 5   # cross-validation\n",
    "max_iter = 100 # regression convergence\n",
    "\n",
    "print(number_of_neurons)"
   ]
  },
  {
   "cell_type": "code",
   "execution_count": null,
   "metadata": {},
   "outputs": [],
   "source": [
    "# Load stim info\n",
    "myfile = h5py.File(expfile,'r')\n",
    "StimID = myfile['/TrialInfo/StimID'].value[:].astype('int')\n",
    "TrialIndex = myfile['TrialIndex'].value[:].astype('int') - 1\n",
    "myfile.close()\n",
    "\n",
    "# Load neural data\n",
    "temp = []\n",
    "for f in fn:\n",
    "    myfile = h5py.File(f,'r')\n",
    "    numNeurons = len(myfile['ROIdata/rois/stimMean'])\n",
    "    numTrials = len(myfile['ROIdata/DataInfo/StimID'][0])\n",
    "    data = np.zeros([numTrials,numNeurons])\n",
    "    for n in np.arange(numNeurons):\n",
    "        data[:,n] = myfile[myfile['ROIdata/rois/stimMean'][n][0]].value\n",
    "    myfile.close()\n",
    "    temp.append(data)\n",
    "data = np.concatenate(temp[:],axis=1)\n",
    "\n",
    "# keep only desired trials\n",
    "StimID = np.squeeze(StimID[TrialIndex])\n",
    "data = np.squeeze(data[TrialIndex,:])\n",
    "# data = np.random.random([np.size(TrialIndex),100]) # fake data\n",
    "\n",
    "numTrials, numNeurons = np.shape(data)\n",
    "numX = np.size(number_of_neurons)\n",
    "print('%01d trials with %01d neurons while randomly sampling the following neurons:' % (numTrials,numNeurons), number_of_neurons)"
   ]
  },
  {
   "cell_type": "code",
   "execution_count": null,
   "metadata": {},
   "outputs": [],
   "source": [
    "def computeLogReg(number_of_neurons):\n",
    "    \n",
    "    pred = np.zeros([numTrials,n_iter])\n",
    "    perc_correct = np.zeros([n_iter])\n",
    "    \n",
    "    for ind in np.arange(n_iter):\n",
    "\n",
    "        # pull out sample of neurons\n",
    "        my_sample = np.random.choice(range(numNeurons), number_of_neurons)\n",
    "        current = data[:,my_sample]\n",
    "\n",
    "        # fit Logistic Regression to random sample (using KFold cross-validation)\n",
    "        skf = StratifiedKFold(n_splits=n_splits)\n",
    "        for train_index, test_index in skf.split(current, StimID):\n",
    "            X_train, X_test = current[train_index,:], current[test_index,:]\n",
    "            y_train, y_test = StimID[train_index], StimID[test_index]\n",
    "\n",
    "            logreg = linear_model.LogisticRegression(max_iter=max_iter,solver='sag',multi_class='multinomial')\n",
    "\n",
    "            logreg.fit(X_train, np.ravel(y_train))\n",
    "\n",
    "            pred[test_index,ind] = logreg.predict(X_test)\n",
    "\n",
    "        perc_correct[ind] = metrics.accuracy_score(StimID, pred[:,ind])\n",
    "        # confusion_matrix = metrics.confusion_matrix(StimID, pred[:,ind,n])\n",
    "\n",
    "    return(perc_correct, pred)"
   ]
  },
  {
   "cell_type": "code",
   "execution_count": null,
   "metadata": {},
   "outputs": [],
   "source": [
    "# Compute logistic regression\n",
    "\n",
    "# pred = np.zeros([numTrials,n_iter,numX])\n",
    "# perc_correct = np.zeros([n_iter,numX])\n",
    "# for n, N in enumerate(number_of_neurons):\n",
    "#     perc_correct[:,n], pred[:,:,n] = computeLogReg(N)\n",
    "\n",
    "e = Executor()\n",
    "Futures = e.map(computeLogReg, number_of_neurons)\n",
    "out = e.gather(Futures)\n",
    "e.close()\n",
    "pred = np.zeros([numTrials,n_iter,numX])\n",
    "perc_correct = np.zeros([n_iter,numX])\n",
    "for n, N in enumerate(number_of_neurons):\n",
    "    perc_correct[:,n] = out[n][0]\n",
    "    pred[:,:,n] = out[n][1]\n",
    "    \n",
    "    \n",
    "print('Done!')"
   ]
  },
  {
   "cell_type": "code",
   "execution_count": null,
   "metadata": {},
   "outputs": [],
   "source": [
    "h5f = h5py.File(filebase + '.h5', 'w')\n",
    "h5f.create_dataset('/perc_correct', data=perc_correct)\n",
    "h5f.create_dataset('/pred', data=pred)\n",
    "h5f.create_dataset('/number_of_neurons', data=number_of_neurons)\n",
    "h5f.close()"
   ]
  },
  {
   "cell_type": "code",
   "execution_count": null,
   "metadata": {},
   "outputs": [],
   "source": [
    "fig, ax = plt.subplots(1,1,figsize=(10,10))\n",
    "ax.errorbar(number_of_neurons,np.mean(perc_correct,axis=0),yerr=1.96*np.std(perc_correct,axis=0))\n",
    "ax.set_ylabel('Percent Correct')\n",
    "ax.set_xlabel('# of Neurons')"
   ]
  },
  {
   "cell_type": "code",
   "execution_count": null,
   "metadata": {},
   "outputs": [],
   "source": [
    "x = np.ceil(np.sqrt(numX)).astype('int')\n",
    "y = np.ceil(numX/x).astype('int')\n",
    "fig, axs = plt.subplots(y,x,sharex=True,sharey=True,figsize=(10,10))\n",
    "for ax, n in zip(axs.flat,range(numX)):\n",
    "    confusion_matrix = metrics.confusion_matrix(np.repeat(StimID,n_iter), np.ravel(pred[:,:,n]))\n",
    "    ax.imshow(confusion_matrix)\n",
    "    ax.set_title('%d' % number_of_neurons[n])"
   ]
  }
 ],
 "metadata": {
  "kernelspec": {
   "display_name": "Python 3",
   "language": "python",
   "name": "python3"
  },
  "language_info": {
   "codemirror_mode": {
    "name": "ipython",
    "version": 3
   },
   "file_extension": ".py",
   "mimetype": "text/x-python",
   "name": "python",
   "nbconvert_exporter": "python",
   "pygments_lexer": "ipython3",
   "version": "3.6.4"
  }
 },
 "nbformat": 4,
 "nbformat_minor": 2
}

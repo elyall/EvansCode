{
 "cells": [
  {
   "cell_type": "code",
   "execution_count": 1,
   "metadata": {},
   "outputs": [
    {
     "name": "stderr",
     "output_type": "stream",
     "text": [
      "/home/elyall/anaconda3/lib/python3.6/site-packages/h5py/__init__.py:36: FutureWarning: Conversion of the second argument of issubdtype from `float` to `np.floating` is deprecated. In future, it will be treated as `np.float64 == np.dtype(float).type`.\n",
      "  from ._conv import register_converters as _register_converters\n"
     ]
    }
   ],
   "source": [
    "import numpy as np\n",
    "import h5py\n",
    "from scipy.io import loadmat\n",
    "\n",
    "from sklearn.model_selection import StratifiedShuffleSplit\n",
    "from sklearn.ensemble import RandomForestClassifier\n",
    "from sklearn import linear_model\n",
    "from sklearn import metrics\n",
    "from distributed import Executor\n",
    "\n",
    "import matplotlib.pyplot as plt\n",
    "# from ipywidgets import interact\n",
    "% matplotlib inline"
   ]
  },
  {
   "cell_type": "code",
   "execution_count": 37,
   "metadata": {},
   "outputs": [
    {
     "name": "stdout",
     "output_type": "stream",
     "text": [
      "/media/elyall/Data/7142/170710/7142_220_002.exp\n",
      "['/media/elyall/Data/7142/170710/7142_220_002_depth1.rois', '/media/elyall/Data/7142/170710/7142_220_002_depth2.rois', '/media/elyall/Data/7142/170710/7142_220_002_depth3.rois', '/media/elyall/Data/7142/170710/7142_220_002_depth4.rois']\n"
     ]
    }
   ],
   "source": [
    "# filebase = '/Users/elyall/Dropbox/Data/7737_291_000'\n",
    "# filebase = '/media/elyall/Data/7737/180118/7737_291_000' # single-depth\n",
    "# ID = '7737'\n",
    "filebase = '/media/elyall/Data/7142/170710/7142_220_002' # 4 depths\n",
    "ID = '7142'\n",
    "# filebase = '/media/elyall/Data2/9025/181021/9025_180_002' # 4 depths\n",
    "# ID = '9025'\n",
    "depth = [1,2,3,4];\n",
    "\n",
    "expfile = filebase + '.exp'\n",
    "# fn = [filebase + '.rois']\n",
    "fn = [filebase + \"_depth%01d\" % d + '.rois' for d in depth]\n",
    "print(expfile)\n",
    "print(fn)\n",
    "\n",
    "numX = 15      # number of neurons to test\n",
    "n_iter = 2    # number of replicates for N samples\n",
    "n_splits = 10  # cross-validation\n",
    "max_iter = 100 # regression convergence"
   ]
  },
  {
   "cell_type": "code",
   "execution_count": 73,
   "metadata": {},
   "outputs": [
    {
     "name": "stdout",
     "output_type": "stream",
     "text": [
      "655 trials with 795 neurons while randomly sampling the following neurons: [  1   2   3   4   7  11  17  28  45  73 118 190 306 493 795]\n"
     ]
    }
   ],
   "source": [
    "# Load stim info\n",
    "myfile = h5py.File(expfile,'r')\n",
    "StimID = myfile['/TrialInfo/StimID'].value[:].astype('int')\n",
    "StimLog = myfile['/Experiment/stim/stim'].value[:].transpose().astype('int64')\n",
    "TrialIndex = myfile['TrialIndex'].value[:].astype('int') - 1\n",
    "myfile.close()\n",
    "\n",
    "# Load neural data\n",
    "temp = []\n",
    "for f in fn:\n",
    "    myfile = h5py.File(f,'r')\n",
    "    numNeurons = len(myfile['ROIdata/rois/stimMean'])\n",
    "    numTrials = len(myfile['ROIdata/DataInfo/StimID'][0])\n",
    "    data = np.zeros([numTrials,numNeurons])\n",
    "    for n in np.arange(numNeurons):\n",
    "        data[:,n] = myfile[myfile['ROIdata/rois/stimMean'][n][0]].value\n",
    "    myfile.close()\n",
    "    temp.append(data)\n",
    "data = np.concatenate(temp[:],axis=1)\n",
    "\n",
    "# keep only desired trials\n",
    "StimID = np.squeeze(StimID[TrialIndex])\n",
    "data = np.squeeze(data[TrialIndex,:])\n",
    "StimLog = StimLog[StimID,:]\n",
    "# data = np.random.random([np.size(TrialIndex),100]) # fake data\n",
    "\n",
    "numTrials, numNeurons = np.shape(data)\n",
    "# number_of_neurons = np.logspace(0,2.6,13).round().astype('int') # list of number of neurons to sample\n",
    "# number_of_neurons = np.append(number_of_neurons,numNeurons)\n",
    "number_of_neurons = np.logspace(0,np.log10(numNeurons),numX).round().astype('int') # list of number of neurons to sample\n",
    "number_of_neurons = np.unique(number_of_neurons)\n",
    "numX = len(number_of_neurons)\n",
    "print('%01d trials with %01d neurons while randomly sampling the following neurons:' % (numTrials,numNeurons), number_of_neurons)"
   ]
  },
  {
   "cell_type": "code",
   "execution_count": 68,
   "metadata": {},
   "outputs": [],
   "source": [
    "# Convert StimLog to vector\n",
    "a = [1,2,4,8,16]\n",
    "StimLog = StimLog.astype('int')\n",
    "for i in np.arange(StimLog.shape[1]):\n",
    "#     StimLog[:, i] *= i+1\n",
    "    StimLog[:, i] *= a[i]\n",
    "StimLog = StimLog.sum(axis=1)"
   ]
  },
  {
   "cell_type": "code",
   "execution_count": 58,
   "metadata": {},
   "outputs": [
    {
     "name": "stderr",
     "output_type": "stream",
     "text": [
      "/home/elyall/anaconda3/lib/python3.6/site-packages/distributed/client.py:3482: UserWarning: Executor has been renamed to Client\n",
      "  warnings.warn(\"Executor has been renamed to Client\")\n",
      "/home/elyall/anaconda3/lib/python3.6/site-packages/distributed/bokeh/core.py:56: UserWarning: \n",
      "Port 8787 is already in use. \n",
      "Perhaps you already have a cluster running?\n",
      "Hosting the diagnostics dashboard on a random port instead.\n",
      "  warnings.warn('\\n' + msg)\n"
     ]
    },
    {
     "ename": "ValueError",
     "evalue": "bad input shape (589, 5)",
     "output_type": "error",
     "traceback": [
      "\u001b[0;31m---------------------------------------------------------------------------\u001b[0m",
      "\u001b[0;31mValueError\u001b[0m                                Traceback (most recent call last)",
      "\u001b[0;32m<ipython-input-58-0dc9ec964c05>\u001b[0m in \u001b[0;36m<module>\u001b[0;34m()\u001b[0m\n\u001b[1;32m     47\u001b[0m \u001b[0me\u001b[0m \u001b[0;34m=\u001b[0m \u001b[0mExecutor\u001b[0m\u001b[0;34m(\u001b[0m\u001b[0;34m)\u001b[0m\u001b[0;34m\u001b[0m\u001b[0m\n\u001b[1;32m     48\u001b[0m \u001b[0mFutures\u001b[0m \u001b[0;34m=\u001b[0m \u001b[0me\u001b[0m\u001b[0;34m.\u001b[0m\u001b[0mmap\u001b[0m\u001b[0;34m(\u001b[0m\u001b[0mclassify\u001b[0m\u001b[0;34m,\u001b[0m \u001b[0mnumber_of_neurons\u001b[0m\u001b[0;34m)\u001b[0m\u001b[0;34m\u001b[0m\u001b[0m\n\u001b[0;32m---> 49\u001b[0;31m \u001b[0mout\u001b[0m \u001b[0;34m=\u001b[0m \u001b[0me\u001b[0m\u001b[0;34m.\u001b[0m\u001b[0mgather\u001b[0m\u001b[0;34m(\u001b[0m\u001b[0mFutures\u001b[0m\u001b[0;34m)\u001b[0m\u001b[0;34m\u001b[0m\u001b[0m\n\u001b[0m\u001b[1;32m     50\u001b[0m \u001b[0me\u001b[0m\u001b[0;34m.\u001b[0m\u001b[0mclose\u001b[0m\u001b[0;34m(\u001b[0m\u001b[0;34m)\u001b[0m\u001b[0;34m\u001b[0m\u001b[0m\n\u001b[1;32m     51\u001b[0m \u001b[0mpred\u001b[0m \u001b[0;34m=\u001b[0m \u001b[0mnp\u001b[0m\u001b[0;34m.\u001b[0m\u001b[0mzeros\u001b[0m\u001b[0;34m(\u001b[0m\u001b[0;34m[\u001b[0m\u001b[0mnumTrials\u001b[0m\u001b[0;34m,\u001b[0m\u001b[0mn_iter\u001b[0m\u001b[0;34m,\u001b[0m\u001b[0mnumX\u001b[0m\u001b[0;34m]\u001b[0m\u001b[0;34m)\u001b[0m\u001b[0;34m\u001b[0m\u001b[0m\n",
      "\u001b[0;32m~/anaconda3/lib/python3.6/site-packages/distributed/client.py\u001b[0m in \u001b[0;36mgather\u001b[0;34m(self, futures, errors, maxsize, direct, asynchronous)\u001b[0m\n\u001b[1;32m   1579\u001b[0m             return self.sync(self._gather, futures, errors=errors,\n\u001b[1;32m   1580\u001b[0m                              \u001b[0mdirect\u001b[0m\u001b[0;34m=\u001b[0m\u001b[0mdirect\u001b[0m\u001b[0;34m,\u001b[0m \u001b[0mlocal_worker\u001b[0m\u001b[0;34m=\u001b[0m\u001b[0mlocal_worker\u001b[0m\u001b[0;34m,\u001b[0m\u001b[0;34m\u001b[0m\u001b[0m\n\u001b[0;32m-> 1581\u001b[0;31m                              asynchronous=asynchronous)\n\u001b[0m\u001b[1;32m   1582\u001b[0m \u001b[0;34m\u001b[0m\u001b[0m\n\u001b[1;32m   1583\u001b[0m     \u001b[0;34m@\u001b[0m\u001b[0mgen\u001b[0m\u001b[0;34m.\u001b[0m\u001b[0mcoroutine\u001b[0m\u001b[0;34m\u001b[0m\u001b[0m\n",
      "\u001b[0;32m~/anaconda3/lib/python3.6/site-packages/distributed/client.py\u001b[0m in \u001b[0;36msync\u001b[0;34m(self, func, *args, **kwargs)\u001b[0m\n\u001b[1;32m    645\u001b[0m             \u001b[0;32mreturn\u001b[0m \u001b[0mfuture\u001b[0m\u001b[0;34m\u001b[0m\u001b[0m\n\u001b[1;32m    646\u001b[0m         \u001b[0;32melse\u001b[0m\u001b[0;34m:\u001b[0m\u001b[0;34m\u001b[0m\u001b[0m\n\u001b[0;32m--> 647\u001b[0;31m             \u001b[0;32mreturn\u001b[0m \u001b[0msync\u001b[0m\u001b[0;34m(\u001b[0m\u001b[0mself\u001b[0m\u001b[0;34m.\u001b[0m\u001b[0mloop\u001b[0m\u001b[0;34m,\u001b[0m \u001b[0mfunc\u001b[0m\u001b[0;34m,\u001b[0m \u001b[0;34m*\u001b[0m\u001b[0margs\u001b[0m\u001b[0;34m,\u001b[0m \u001b[0;34m**\u001b[0m\u001b[0mkwargs\u001b[0m\u001b[0;34m)\u001b[0m\u001b[0;34m\u001b[0m\u001b[0m\n\u001b[0m\u001b[1;32m    648\u001b[0m \u001b[0;34m\u001b[0m\u001b[0m\n\u001b[1;32m    649\u001b[0m     \u001b[0;32mdef\u001b[0m \u001b[0m__repr__\u001b[0m\u001b[0;34m(\u001b[0m\u001b[0mself\u001b[0m\u001b[0;34m)\u001b[0m\u001b[0;34m:\u001b[0m\u001b[0;34m\u001b[0m\u001b[0m\n",
      "\u001b[0;32m~/anaconda3/lib/python3.6/site-packages/distributed/utils.py\u001b[0m in \u001b[0;36msync\u001b[0;34m(loop, func, *args, **kwargs)\u001b[0m\n\u001b[1;32m    275\u001b[0m             \u001b[0me\u001b[0m\u001b[0;34m.\u001b[0m\u001b[0mwait\u001b[0m\u001b[0;34m(\u001b[0m\u001b[0;36m10\u001b[0m\u001b[0;34m)\u001b[0m\u001b[0;34m\u001b[0m\u001b[0m\n\u001b[1;32m    276\u001b[0m     \u001b[0;32mif\u001b[0m \u001b[0merror\u001b[0m\u001b[0;34m[\u001b[0m\u001b[0;36m0\u001b[0m\u001b[0;34m]\u001b[0m\u001b[0;34m:\u001b[0m\u001b[0;34m\u001b[0m\u001b[0m\n\u001b[0;32m--> 277\u001b[0;31m         \u001b[0msix\u001b[0m\u001b[0;34m.\u001b[0m\u001b[0mreraise\u001b[0m\u001b[0;34m(\u001b[0m\u001b[0;34m*\u001b[0m\u001b[0merror\u001b[0m\u001b[0;34m[\u001b[0m\u001b[0;36m0\u001b[0m\u001b[0;34m]\u001b[0m\u001b[0;34m)\u001b[0m\u001b[0;34m\u001b[0m\u001b[0m\n\u001b[0m\u001b[1;32m    278\u001b[0m     \u001b[0;32melse\u001b[0m\u001b[0;34m:\u001b[0m\u001b[0;34m\u001b[0m\u001b[0m\n\u001b[1;32m    279\u001b[0m         \u001b[0;32mreturn\u001b[0m \u001b[0mresult\u001b[0m\u001b[0;34m[\u001b[0m\u001b[0;36m0\u001b[0m\u001b[0;34m]\u001b[0m\u001b[0;34m\u001b[0m\u001b[0m\n",
      "\u001b[0;32m~/anaconda3/lib/python3.6/site-packages/six.py\u001b[0m in \u001b[0;36mreraise\u001b[0;34m(tp, value, tb)\u001b[0m\n\u001b[1;32m    691\u001b[0m             \u001b[0;32mif\u001b[0m \u001b[0mvalue\u001b[0m\u001b[0;34m.\u001b[0m\u001b[0m__traceback__\u001b[0m \u001b[0;32mis\u001b[0m \u001b[0;32mnot\u001b[0m \u001b[0mtb\u001b[0m\u001b[0;34m:\u001b[0m\u001b[0;34m\u001b[0m\u001b[0m\n\u001b[1;32m    692\u001b[0m                 \u001b[0;32mraise\u001b[0m \u001b[0mvalue\u001b[0m\u001b[0;34m.\u001b[0m\u001b[0mwith_traceback\u001b[0m\u001b[0;34m(\u001b[0m\u001b[0mtb\u001b[0m\u001b[0;34m)\u001b[0m\u001b[0;34m\u001b[0m\u001b[0m\n\u001b[0;32m--> 693\u001b[0;31m             \u001b[0;32mraise\u001b[0m \u001b[0mvalue\u001b[0m\u001b[0;34m\u001b[0m\u001b[0m\n\u001b[0m\u001b[1;32m    694\u001b[0m         \u001b[0;32mfinally\u001b[0m\u001b[0;34m:\u001b[0m\u001b[0;34m\u001b[0m\u001b[0m\n\u001b[1;32m    695\u001b[0m             \u001b[0mvalue\u001b[0m \u001b[0;34m=\u001b[0m \u001b[0;32mNone\u001b[0m\u001b[0;34m\u001b[0m\u001b[0m\n",
      "\u001b[0;32m~/anaconda3/lib/python3.6/site-packages/distributed/utils.py\u001b[0m in \u001b[0;36mf\u001b[0;34m()\u001b[0m\n\u001b[1;32m    260\u001b[0m             \u001b[0;32mif\u001b[0m \u001b[0mtimeout\u001b[0m \u001b[0;32mis\u001b[0m \u001b[0;32mnot\u001b[0m \u001b[0;32mNone\u001b[0m\u001b[0;34m:\u001b[0m\u001b[0;34m\u001b[0m\u001b[0m\n\u001b[1;32m    261\u001b[0m                 \u001b[0mfuture\u001b[0m \u001b[0;34m=\u001b[0m \u001b[0mgen\u001b[0m\u001b[0;34m.\u001b[0m\u001b[0mwith_timeout\u001b[0m\u001b[0;34m(\u001b[0m\u001b[0mtimedelta\u001b[0m\u001b[0;34m(\u001b[0m\u001b[0mseconds\u001b[0m\u001b[0;34m=\u001b[0m\u001b[0mtimeout\u001b[0m\u001b[0;34m)\u001b[0m\u001b[0;34m,\u001b[0m \u001b[0mfuture\u001b[0m\u001b[0;34m)\u001b[0m\u001b[0;34m\u001b[0m\u001b[0m\n\u001b[0;32m--> 262\u001b[0;31m             \u001b[0mresult\u001b[0m\u001b[0;34m[\u001b[0m\u001b[0;36m0\u001b[0m\u001b[0;34m]\u001b[0m \u001b[0;34m=\u001b[0m \u001b[0;32myield\u001b[0m \u001b[0mfuture\u001b[0m\u001b[0;34m\u001b[0m\u001b[0m\n\u001b[0m\u001b[1;32m    263\u001b[0m         \u001b[0;32mexcept\u001b[0m \u001b[0mException\u001b[0m \u001b[0;32mas\u001b[0m \u001b[0mexc\u001b[0m\u001b[0;34m:\u001b[0m\u001b[0;34m\u001b[0m\u001b[0m\n\u001b[1;32m    264\u001b[0m             \u001b[0merror\u001b[0m\u001b[0;34m[\u001b[0m\u001b[0;36m0\u001b[0m\u001b[0;34m]\u001b[0m \u001b[0;34m=\u001b[0m \u001b[0msys\u001b[0m\u001b[0;34m.\u001b[0m\u001b[0mexc_info\u001b[0m\u001b[0;34m(\u001b[0m\u001b[0;34m)\u001b[0m\u001b[0;34m\u001b[0m\u001b[0m\n",
      "\u001b[0;32m~/anaconda3/lib/python3.6/site-packages/tornado/gen.py\u001b[0m in \u001b[0;36mrun\u001b[0;34m(self)\u001b[0m\n\u001b[1;32m   1053\u001b[0m \u001b[0;34m\u001b[0m\u001b[0m\n\u001b[1;32m   1054\u001b[0m                     \u001b[0;32mtry\u001b[0m\u001b[0;34m:\u001b[0m\u001b[0;34m\u001b[0m\u001b[0m\n\u001b[0;32m-> 1055\u001b[0;31m                         \u001b[0mvalue\u001b[0m \u001b[0;34m=\u001b[0m \u001b[0mfuture\u001b[0m\u001b[0;34m.\u001b[0m\u001b[0mresult\u001b[0m\u001b[0;34m(\u001b[0m\u001b[0;34m)\u001b[0m\u001b[0;34m\u001b[0m\u001b[0m\n\u001b[0m\u001b[1;32m   1056\u001b[0m                     \u001b[0;32mexcept\u001b[0m \u001b[0mException\u001b[0m\u001b[0;34m:\u001b[0m\u001b[0;34m\u001b[0m\u001b[0m\n\u001b[1;32m   1057\u001b[0m                         \u001b[0mself\u001b[0m\u001b[0;34m.\u001b[0m\u001b[0mhad_exception\u001b[0m \u001b[0;34m=\u001b[0m \u001b[0;32mTrue\u001b[0m\u001b[0;34m\u001b[0m\u001b[0m\n",
      "\u001b[0;32m~/anaconda3/lib/python3.6/site-packages/tornado/concurrent.py\u001b[0m in \u001b[0;36mresult\u001b[0;34m(self, timeout)\u001b[0m\n\u001b[1;32m    236\u001b[0m         \u001b[0;32mif\u001b[0m \u001b[0mself\u001b[0m\u001b[0;34m.\u001b[0m\u001b[0m_exc_info\u001b[0m \u001b[0;32mis\u001b[0m \u001b[0;32mnot\u001b[0m \u001b[0;32mNone\u001b[0m\u001b[0;34m:\u001b[0m\u001b[0;34m\u001b[0m\u001b[0m\n\u001b[1;32m    237\u001b[0m             \u001b[0;32mtry\u001b[0m\u001b[0;34m:\u001b[0m\u001b[0;34m\u001b[0m\u001b[0m\n\u001b[0;32m--> 238\u001b[0;31m                 \u001b[0mraise_exc_info\u001b[0m\u001b[0;34m(\u001b[0m\u001b[0mself\u001b[0m\u001b[0;34m.\u001b[0m\u001b[0m_exc_info\u001b[0m\u001b[0;34m)\u001b[0m\u001b[0;34m\u001b[0m\u001b[0m\n\u001b[0m\u001b[1;32m    239\u001b[0m             \u001b[0;32mfinally\u001b[0m\u001b[0;34m:\u001b[0m\u001b[0;34m\u001b[0m\u001b[0m\n\u001b[1;32m    240\u001b[0m                 \u001b[0mself\u001b[0m \u001b[0;34m=\u001b[0m \u001b[0;32mNone\u001b[0m\u001b[0;34m\u001b[0m\u001b[0m\n",
      "\u001b[0;32m~/anaconda3/lib/python3.6/site-packages/tornado/util.py\u001b[0m in \u001b[0;36mraise_exc_info\u001b[0;34m(exc_info)\u001b[0m\n",
      "\u001b[0;32m~/anaconda3/lib/python3.6/site-packages/tornado/gen.py\u001b[0m in \u001b[0;36mrun\u001b[0;34m(self)\u001b[0m\n\u001b[1;32m   1061\u001b[0m                     \u001b[0;32mif\u001b[0m \u001b[0mexc_info\u001b[0m \u001b[0;32mis\u001b[0m \u001b[0;32mnot\u001b[0m \u001b[0;32mNone\u001b[0m\u001b[0;34m:\u001b[0m\u001b[0;34m\u001b[0m\u001b[0m\n\u001b[1;32m   1062\u001b[0m                         \u001b[0;32mtry\u001b[0m\u001b[0;34m:\u001b[0m\u001b[0;34m\u001b[0m\u001b[0m\n\u001b[0;32m-> 1063\u001b[0;31m                             \u001b[0myielded\u001b[0m \u001b[0;34m=\u001b[0m \u001b[0mself\u001b[0m\u001b[0;34m.\u001b[0m\u001b[0mgen\u001b[0m\u001b[0;34m.\u001b[0m\u001b[0mthrow\u001b[0m\u001b[0;34m(\u001b[0m\u001b[0;34m*\u001b[0m\u001b[0mexc_info\u001b[0m\u001b[0;34m)\u001b[0m\u001b[0;34m\u001b[0m\u001b[0m\n\u001b[0m\u001b[1;32m   1064\u001b[0m                         \u001b[0;32mfinally\u001b[0m\u001b[0;34m:\u001b[0m\u001b[0;34m\u001b[0m\u001b[0m\n\u001b[1;32m   1065\u001b[0m                             \u001b[0;31m# Break up a reference to itself\u001b[0m\u001b[0;34m\u001b[0m\u001b[0;34m\u001b[0m\u001b[0m\n",
      "\u001b[0;32m~/anaconda3/lib/python3.6/site-packages/distributed/client.py\u001b[0m in \u001b[0;36m_gather\u001b[0;34m(self, futures, errors, direct, local_worker)\u001b[0m\n\u001b[1;32m   1455\u001b[0m                             six.reraise(type(exception),\n\u001b[1;32m   1456\u001b[0m                                         \u001b[0mexception\u001b[0m\u001b[0;34m,\u001b[0m\u001b[0;34m\u001b[0m\u001b[0m\n\u001b[0;32m-> 1457\u001b[0;31m                                         traceback)\n\u001b[0m\u001b[1;32m   1458\u001b[0m                     \u001b[0;32mif\u001b[0m \u001b[0merrors\u001b[0m \u001b[0;34m==\u001b[0m \u001b[0;34m'skip'\u001b[0m\u001b[0;34m:\u001b[0m\u001b[0;34m\u001b[0m\u001b[0m\n\u001b[1;32m   1459\u001b[0m                         \u001b[0mbad_keys\u001b[0m\u001b[0;34m.\u001b[0m\u001b[0madd\u001b[0m\u001b[0;34m(\u001b[0m\u001b[0mkey\u001b[0m\u001b[0;34m)\u001b[0m\u001b[0;34m\u001b[0m\u001b[0m\n",
      "\u001b[0;32m~/anaconda3/lib/python3.6/site-packages/six.py\u001b[0m in \u001b[0;36mreraise\u001b[0;34m(tp, value, tb)\u001b[0m\n\u001b[1;32m    690\u001b[0m                 \u001b[0mvalue\u001b[0m \u001b[0;34m=\u001b[0m \u001b[0mtp\u001b[0m\u001b[0;34m(\u001b[0m\u001b[0;34m)\u001b[0m\u001b[0;34m\u001b[0m\u001b[0m\n\u001b[1;32m    691\u001b[0m             \u001b[0;32mif\u001b[0m \u001b[0mvalue\u001b[0m\u001b[0;34m.\u001b[0m\u001b[0m__traceback__\u001b[0m \u001b[0;32mis\u001b[0m \u001b[0;32mnot\u001b[0m \u001b[0mtb\u001b[0m\u001b[0;34m:\u001b[0m\u001b[0;34m\u001b[0m\u001b[0m\n\u001b[0;32m--> 692\u001b[0;31m                 \u001b[0;32mraise\u001b[0m \u001b[0mvalue\u001b[0m\u001b[0;34m.\u001b[0m\u001b[0mwith_traceback\u001b[0m\u001b[0;34m(\u001b[0m\u001b[0mtb\u001b[0m\u001b[0;34m)\u001b[0m\u001b[0;34m\u001b[0m\u001b[0m\n\u001b[0m\u001b[1;32m    693\u001b[0m             \u001b[0;32mraise\u001b[0m \u001b[0mvalue\u001b[0m\u001b[0;34m\u001b[0m\u001b[0m\n\u001b[1;32m    694\u001b[0m         \u001b[0;32mfinally\u001b[0m\u001b[0;34m:\u001b[0m\u001b[0;34m\u001b[0m\u001b[0m\n",
      "\u001b[0;32m<ipython-input-58-0dc9ec964c05>\u001b[0m in \u001b[0;36mclassify\u001b[0;34m()\u001b[0m\n\u001b[1;32m     23\u001b[0m \u001b[0;34m\u001b[0m\u001b[0m\n\u001b[1;32m     24\u001b[0m             \u001b[0;31m#mdl.fit(X_train, np.ravel(y_train))\u001b[0m\u001b[0;34m\u001b[0m\u001b[0;34m\u001b[0m\u001b[0m\n\u001b[0;32m---> 25\u001b[0;31m             \u001b[0mmdl\u001b[0m\u001b[0;34m.\u001b[0m\u001b[0mfit\u001b[0m\u001b[0;34m(\u001b[0m\u001b[0mX_train\u001b[0m\u001b[0;34m,\u001b[0m \u001b[0my_train\u001b[0m\u001b[0;34m)\u001b[0m\u001b[0;34m\u001b[0m\u001b[0m\n\u001b[0m\u001b[1;32m     26\u001b[0m \u001b[0;34m\u001b[0m\u001b[0m\n\u001b[1;32m     27\u001b[0m             \u001b[0mpred\u001b[0m\u001b[0;34m[\u001b[0m\u001b[0mtest_index\u001b[0m\u001b[0;34m,\u001b[0m\u001b[0mind\u001b[0m\u001b[0;34m]\u001b[0m \u001b[0;34m=\u001b[0m \u001b[0mmdl\u001b[0m\u001b[0;34m.\u001b[0m\u001b[0mpredict\u001b[0m\u001b[0;34m(\u001b[0m\u001b[0mX_test\u001b[0m\u001b[0;34m)\u001b[0m\u001b[0;34m\u001b[0m\u001b[0m\n",
      "\u001b[0;32m~/anaconda3/lib/python3.6/site-packages/sklearn/linear_model/logistic.py\u001b[0m in \u001b[0;36mfit\u001b[0;34m()\u001b[0m\n\u001b[1;32m   1282\u001b[0m \u001b[0;34m\u001b[0m\u001b[0m\n\u001b[1;32m   1283\u001b[0m         X, y = check_X_y(X, y, accept_sparse='csr', dtype=_dtype, order=\"C\",\n\u001b[0;32m-> 1284\u001b[0;31m                          accept_large_sparse=solver != 'liblinear')\n\u001b[0m\u001b[1;32m   1285\u001b[0m         \u001b[0mcheck_classification_targets\u001b[0m\u001b[0;34m(\u001b[0m\u001b[0my\u001b[0m\u001b[0;34m)\u001b[0m\u001b[0;34m\u001b[0m\u001b[0m\n\u001b[1;32m   1286\u001b[0m         \u001b[0mself\u001b[0m\u001b[0;34m.\u001b[0m\u001b[0mclasses_\u001b[0m \u001b[0;34m=\u001b[0m \u001b[0mnp\u001b[0m\u001b[0;34m.\u001b[0m\u001b[0munique\u001b[0m\u001b[0;34m(\u001b[0m\u001b[0my\u001b[0m\u001b[0;34m)\u001b[0m\u001b[0;34m\u001b[0m\u001b[0m\n",
      "\u001b[0;32m~/anaconda3/lib/python3.6/site-packages/sklearn/utils/validation.py\u001b[0m in \u001b[0;36mcheck_X_y\u001b[0;34m()\u001b[0m\n\u001b[1;32m    750\u001b[0m                         dtype=None)\n\u001b[1;32m    751\u001b[0m     \u001b[0;32melse\u001b[0m\u001b[0;34m:\u001b[0m\u001b[0;34m\u001b[0m\u001b[0m\n\u001b[0;32m--> 752\u001b[0;31m         \u001b[0my\u001b[0m \u001b[0;34m=\u001b[0m \u001b[0mcolumn_or_1d\u001b[0m\u001b[0;34m(\u001b[0m\u001b[0my\u001b[0m\u001b[0;34m,\u001b[0m \u001b[0mwarn\u001b[0m\u001b[0;34m=\u001b[0m\u001b[0;32mTrue\u001b[0m\u001b[0;34m)\u001b[0m\u001b[0;34m\u001b[0m\u001b[0m\n\u001b[0m\u001b[1;32m    753\u001b[0m         \u001b[0m_assert_all_finite\u001b[0m\u001b[0;34m(\u001b[0m\u001b[0my\u001b[0m\u001b[0;34m)\u001b[0m\u001b[0;34m\u001b[0m\u001b[0m\n\u001b[1;32m    754\u001b[0m     \u001b[0;32mif\u001b[0m \u001b[0my_numeric\u001b[0m \u001b[0;32mand\u001b[0m \u001b[0my\u001b[0m\u001b[0;34m.\u001b[0m\u001b[0mdtype\u001b[0m\u001b[0;34m.\u001b[0m\u001b[0mkind\u001b[0m \u001b[0;34m==\u001b[0m \u001b[0;34m'O'\u001b[0m\u001b[0;34m:\u001b[0m\u001b[0;34m\u001b[0m\u001b[0m\n",
      "\u001b[0;32m~/anaconda3/lib/python3.6/site-packages/sklearn/utils/validation.py\u001b[0m in \u001b[0;36mcolumn_or_1d\u001b[0;34m()\u001b[0m\n\u001b[1;32m    786\u001b[0m         \u001b[0;32mreturn\u001b[0m \u001b[0mnp\u001b[0m\u001b[0;34m.\u001b[0m\u001b[0mravel\u001b[0m\u001b[0;34m(\u001b[0m\u001b[0my\u001b[0m\u001b[0;34m)\u001b[0m\u001b[0;34m\u001b[0m\u001b[0m\n\u001b[1;32m    787\u001b[0m \u001b[0;34m\u001b[0m\u001b[0m\n\u001b[0;32m--> 788\u001b[0;31m     \u001b[0;32mraise\u001b[0m \u001b[0mValueError\u001b[0m\u001b[0;34m(\u001b[0m\u001b[0;34m\"bad input shape {0}\"\u001b[0m\u001b[0;34m.\u001b[0m\u001b[0mformat\u001b[0m\u001b[0;34m(\u001b[0m\u001b[0mshape\u001b[0m\u001b[0;34m)\u001b[0m\u001b[0;34m)\u001b[0m\u001b[0;34m\u001b[0m\u001b[0m\n\u001b[0m\u001b[1;32m    789\u001b[0m \u001b[0;34m\u001b[0m\u001b[0m\n\u001b[1;32m    790\u001b[0m \u001b[0;34m\u001b[0m\u001b[0m\n",
      "\u001b[0;31mValueError\u001b[0m: bad input shape (589, 5)"
     ]
    }
   ],
   "source": [
    "def classify(number_of_neurons):\n",
    "    \n",
    "    # initialize outputs\n",
    "    pred = np.zeros([numTrials,n_iter])\n",
    "#     pred = np.zeros([numTrials,5,n_iter])\n",
    "    perc_correct = np.zeros([n_iter])\n",
    "    \n",
    "    for ind in np.arange(n_iter):\n",
    "\n",
    "        # pull out sample of neurons\n",
    "        my_sample = np.random.choice(range(numNeurons), number_of_neurons)\n",
    "        current = data[:,my_sample]\n",
    "\n",
    "        # fit classifier to random sample (using KFold cross-validation)\n",
    "        skf = StratifiedShuffleSplit(n_splits=n_splits)\n",
    "        for train_index, test_index in skf.split(current, StimID):\n",
    "            X_train, X_test = current[train_index,:], current[test_index,:]\n",
    "            #y_train, y_test = StimID[train_index], StimID[test_index]\n",
    "            y_train, y_test = StimLog[train_index], StimLog[test_index]\n",
    "            \n",
    "            mdl = linear_model.LogisticRegression(multi_class='multinomial',max_iter=max_iter,solver='sag')\n",
    "            #mdl = RandomForestClassifier(n_estimators=100, n_jobs=-1)\n",
    "            \n",
    "            #mdl.fit(X_train, np.ravel(y_train))\n",
    "            mdl.fit(X_train, y_train)\n",
    "\n",
    "            pred[test_index,ind] = mdl.predict(X_test)\n",
    "#             pred[test_index,:,ind] = mdl.predict(X_test)\n",
    "\n",
    "        perc_correct[ind] = metrics.accuracy_score(StimID, pred[:,ind])\n",
    "#         perc_correct[ind] = metrics.accuracy_score(StimLog, pred[:,:,ind])\n",
    "\n",
    "    return(perc_correct, pred)\n",
    "\n",
    "\n",
    "# Compute classifier\n",
    "\n",
    "# # single thread\n",
    "# pred = np.zeros([numTrials,n_iter,numX])\n",
    "# # pred = np.zeros([numTrials,5,n_iter,numX])\n",
    "# perc_correct = np.zeros([n_iter,numX])\n",
    "# for n, N in enumerate(number_of_neurons):\n",
    "#     perc_correct[:,n], pred[:,:,n] = classify(N)\n",
    "# #     perc_correct[:,n], pred[:,:,:,n] = classify(N)\n",
    "\n",
    "# mult-threaded\n",
    "e = Executor()\n",
    "Futures = e.map(classify, number_of_neurons)\n",
    "out = e.gather(Futures)\n",
    "e.close()\n",
    "pred = np.zeros([numTrials,n_iter,numX])\n",
    "# pred = np.zeros([numTrials,5,n_iter,numX])\n",
    "perc_correct = np.zeros([n_iter,numX])\n",
    "for n, N in enumerate(number_of_neurons):\n",
    "    perc_correct[:,n] = out[n][0]\n",
    "    pred[:,:,n] = out[n][1]\n",
    "#     pred[:,:,:,n] = out[n][1]"
   ]
  },
  {
   "cell_type": "code",
   "execution_count": null,
   "metadata": {},
   "outputs": [],
   "source": [
    "# %%time\n",
    "# # DOESN'T WORK BECAUSE DASK DISTRIBUTED CACHES THE RESULT OF THE FIRST ITERATION TO ALL FUTURE CALLS WITH THE SAME INPUT\n",
    "\n",
    "# def classify2(number_of_neurons):\n",
    "    \n",
    "#     # pull out sample of neurons\n",
    "#     my_sample = np.random.choice(range(numNeurons), number_of_neurons)\n",
    "#     current = data[:,my_sample]\n",
    "\n",
    "#     # fit classifier to random sample (using KFold cross-validation)\n",
    "#     pred = np.zeros([numTrials])\n",
    "#     skf = StratifiedShuffleSplit(n_splits=n_splits)\n",
    "#     for train_index, test_index in skf.split(current, StimID):\n",
    "#         X_train, X_test = current[train_index,:], current[test_index,:]\n",
    "#         y_train, y_test = StimID[train_index], StimID[test_index]\n",
    "\n",
    "# #         mdl = linear_model.LogisticRegression(max_iter=max_iter,solver='sag',multi_class='multinomial')\n",
    "#         mdl = RandomForestClassifier(n_estimators=100, n_jobs=-1)\n",
    "\n",
    "#         mdl.fit(X_train, np.ravel(y_train))\n",
    "\n",
    "#         pred[test_index] = mdl.predict(X_test)\n",
    "\n",
    "#     perc_correct = metrics.accuracy_score(StimID, pred)\n",
    "#     # confusion_matrix = metrics.confusion_matrix(StimID, pred[:,ind,n])\n",
    "\n",
    "#     return(perc_correct, pred)\n",
    "\n",
    "# # mult-threaded\n",
    "# X = np.repeat(number_of_neurons,n_iter)\n",
    "# e = Executor()\n",
    "# Futures = e.map(classify2, X)\n",
    "# out = e.gather(Futures)\n",
    "# e.close()\n",
    "# # reshape output\n",
    "# pred = np.zeros([numTrials,n_iter,numX])\n",
    "# perc_correct = np.zeros([n_iter,numX])\n",
    "# _, Nind = np.unique(X, return_inverse=True)\n",
    "# Iind = np.mod(np.arange(len(X)),n_iter)\n",
    "# for n, x, y in zip(np.arange(len(X)), Nind, Iind):\n",
    "#     perc_correct[y,x] = out[n][0]\n",
    "#     pred[:,y,x] = out[n][1]"
   ]
  },
  {
   "cell_type": "code",
   "execution_count": 59,
   "metadata": {},
   "outputs": [
    {
     "name": "stdout",
     "output_type": "stream",
     "text": [
      "2 classifier(s)\n"
     ]
    }
   ],
   "source": [
    "from sklearn.multiclass import OneVsRestClassifier\n",
    "from sklearn.svm import SVC\n",
    "from sklearn.tree import DecisionTreeClassifier, ExtraTreeClassifier\n",
    "from sklearn.ensemble import ExtraTreesClassifier, RandomForestClassifier\n",
    "from sklearn.neighbors import KNeighborsClassifier, RadiusNeighborsClassifier\n",
    "from sklearn.neural_network import MLPClassifier\n",
    "from sklearn.linear_model import RidgeClassifierCV, LogisticRegression\n",
    "\n",
    "classifiers = {\n",
    "    'Logistic Regression' : LogisticRegression(multi_class='multinomial',max_iter=max_iter,solver='sag'),\n",
    "#     'One vs Rest' : OneVsRestClassifier(SVC(kernel='linear')),\n",
    "#     'Decision Tree' : DecisionTreeClassifier(),\n",
    "#     'Extra Tree' : ExtraTreeClassifier(),\n",
    "#     'Extra Trees' : ExtraTreesClassifier(),\n",
    "#     'K Neighbors' : KNeighborsClassifier(),\n",
    "#     'Multi-layer Perceptron' : MLPClassifier(),\n",
    "# #     'Radius Neighbors': RadiusNeighborsClassifier(radius=10.0),\n",
    "# #     'Ridge (CV)': RidgeClassifierCV(), # has formatting issue (pred is Nx1 not Nx5)\n",
    "    'Random Forest': RandomForestClassifier(),\n",
    "}\n",
    "n_classifiers = len(classifiers)\n",
    "print('%d classifier(s)' % n_classifiers)"
   ]
  },
  {
   "cell_type": "code",
   "execution_count": 70,
   "metadata": {},
   "outputs": [
    {
     "name": "stderr",
     "output_type": "stream",
     "text": [
      "/home/elyall/anaconda3/lib/python3.6/site-packages/distributed/client.py:3482: UserWarning: Executor has been renamed to Client\n",
      "  warnings.warn(\"Executor has been renamed to Client\")\n",
      "/home/elyall/anaconda3/lib/python3.6/site-packages/distributed/bokeh/core.py:56: UserWarning: \n",
      "Port 8787 is already in use. \n",
      "Perhaps you already have a cluster running?\n",
      "Hosting the diagnostics dashboard on a random port instead.\n",
      "  warnings.warn('\\n' + msg)\n"
     ]
    }
   ],
   "source": [
    "def classify3(number_of_neurons):\n",
    "    \n",
    "    # initialize outputs\n",
    "    pred = np.zeros([numTrials,n_classifiers,n_iter])\n",
    "#     pred = np.zeros([numTrials,5,n_classifiers,n_iter])\n",
    "    perc_correct = np.zeros([n_classifiers,n_iter])\n",
    "    \n",
    "    for ind in np.arange(n_iter):\n",
    "\n",
    "        # pull out sample of neurons\n",
    "        my_sample = np.random.choice(range(numNeurons), number_of_neurons)\n",
    "        current = data[:,my_sample]\n",
    "\n",
    "        # perform K-fold cross validation\n",
    "        skf = StratifiedShuffleSplit(n_splits=n_splits)\n",
    "        for train_index, test_index in skf.split(current, StimID):\n",
    "            X_train, X_test = current[train_index,:], current[test_index,:]\n",
    "            y_train, y_test = StimLog[train_index], StimLog[test_index]\n",
    "#             y_train, y_test = StimLog[train_index,:], StimLog[test_index,:]\n",
    "                        \n",
    "            # fit each classifer\n",
    "            for index, (name, classifier) in enumerate(classifiers.items()):\n",
    "                classifier.fit(X_train, y_train)\n",
    "                pred[test_index,index,ind] = classifier.predict(X_test)\n",
    "#                 pred[test_index,:,index,ind] = classifier.predict(X_test)\n",
    "                perc_correct[index,ind] = metrics.accuracy_score(y_test, pred[test_index,index,ind])\n",
    "#                 perc_correct[index,ind] = metrics.accuracy_score(y_test, pred[test_index,:,index,ind])\n",
    "\n",
    "    return(perc_correct, pred)\n",
    "\n",
    "\n",
    "# Compute classifier\n",
    "\n",
    "# # single thread\n",
    "# pred = np.zeros([numTrials,5,n_classifiers,n_iter,numX])\n",
    "# perc_correct = np.zeros([n_classifiers,n_iter,numX])\n",
    "# for n, N in enumerate(number_of_neurons):\n",
    "#     perc_correct[:,:,n], pred[:,:,:,:,n] = classify3(N)\n",
    "\n",
    "# mult-threaded\n",
    "e = Executor()\n",
    "Futures = e.map(classify3, number_of_neurons)\n",
    "out = e.gather(Futures)\n",
    "e.close()\n",
    "pred = np.zeros([numTrials,n_classifiers,n_iter,numX])\n",
    "# pred = np.zeros([numTrials,5,n_classifiers,n_iter,numX])\n",
    "perc_correct = np.zeros([n_classifiers,n_iter,numX])\n",
    "for n, N in enumerate(number_of_neurons):\n",
    "    perc_correct[:,:,n] = out[n][0]\n",
    "    pred[:,:,:,n] = out[n][1]\n",
    "#     pred[:,:,:,:,n] = out[n][1]"
   ]
  },
  {
   "cell_type": "code",
   "execution_count": 11,
   "metadata": {},
   "outputs": [],
   "source": [
    "# Save output\n",
    "h5f = h5py.File(filebase + '.h5', 'w')\n",
    "h5f.create_dataset('/perc_correct', data=perc_correct)\n",
    "h5f.create_dataset('/pred', data=pred)\n",
    "h5f.create_dataset('/number_of_neurons', data=number_of_neurons)\n",
    "h5f.close()"
   ]
  },
  {
   "cell_type": "code",
   "execution_count": 66,
   "metadata": {},
   "outputs": [
    {
     "data": {
      "text/plain": [
       "<matplotlib.legend.Legend at 0x7fa278c34f28>"
      ]
     },
     "execution_count": 66,
     "metadata": {},
     "output_type": "execute_result"
    },
    {
     "data": {
      "image/png": "[encoded data removed]",
      "text/plain": [
       "<matplotlib.figure.Figure at 0x7fa278e989b0>"
      ]
     },
     "metadata": {},
     "output_type": "display_data"
    }
   ],
   "source": [
    "# Plot output\n",
    "X = number_of_neurons\n",
    "Y = np.mean(perc_correct,axis=1)\n",
    "E = 1.96*np.std(perc_correct,axis=1)\n",
    "\n",
    "fig, ax = plt.subplots(1,1,figsize=(10,10))\n",
    "for ind, (y,e,l) in enumerate(zip(Y,E,list(classifiers.keys()))):\n",
    "    ax.plot(X, y, label=l)\n",
    "    ax.fill_between(X, y-e, y+e, alpha=0.1, antialiased=True)\n",
    "#     ax.errorbar(X, y, yerr=e, label=l)\n",
    "ax.set_ylabel('Percent Correct')\n",
    "ax.set_xlabel('# of Neurons')\n",
    "ax.set_xscale('log')\n",
    "ax.set_title('Mouse ' + ID)\n",
    "ax.legend(loc='upper left')\n",
    "\n",
    "# # Save plot\n",
    "# fig.savefig(ID + '_percCorrect.pdf')\n",
    "# fig.savefig(ID + '_percCorrect.eps')"
   ]
  },
  {
   "cell_type": "code",
   "execution_count": null,
   "metadata": {},
   "outputs": [],
   "source": [
    "# # Display single confusion matrix\n",
    "# x = np.ceil(np.sqrt(numX)).astype('int')\n",
    "# y = np.ceil(numX/x).astype('int')\n",
    "# fig, axs = plt.subplots(y,x,sharex=True,sharey=True,figsize=(10,10))\n",
    "# for ax, n in zip(axs.flat,range(numX)):\n",
    "#     confusion_matrix = metrics.confusion_matrix(np.repeat(StimID,n_iter), np.ravel(pred2[:,:,n]))\n",
    "#     ax.imshow(confusion_matrix)\n",
    "#     ax.set_title('%d' % number_of_neurons[n])\n",
    "# fig.text(0.5, 0.04, 'Predicted Label', ha='center')\n",
    "# fig.text(0.04, 0.5, 'True Label', va='center', rotation='vertical')\n",
    "    \n",
    "# fig.savefig(ID + '_RF_CM.png')"
   ]
  },
  {
   "cell_type": "code",
   "execution_count": null,
   "metadata": {},
   "outputs": [],
   "source": [
    "# # Display lots of confusion matrices\n",
    "# fig, ax = plt.subplots(1,1,sharex=True,sharey=True,figsize=(10,10))\n",
    "# confusion_matrix = metrics.confusion_matrix(np.repeat(StimID,n_iter), np.ravel(pred2[:,:,-1]))\n",
    "# ax.imshow(confusion_matrix)\n",
    "# ax.set_title(ID + ' RF (neurons=%d)' % number_of_neurons[-1])\n",
    "# ax.set_ylabel('True label')\n",
    "# ax.set_xlabel('Predicted label')\n",
    "\n",
    "# fig.savefig(ID + '_RF_CM_%d.png' % number_of_neurons[-1])"
   ]
  }
 ],
 "metadata": {
  "kernelspec": {
   "display_name": "Python 3",
   "language": "python",
   "name": "python3"
  },
  "language_info": {
   "codemirror_mode": {
    "name": "ipython",
    "version": 3
   },
   "file_extension": ".py",
   "mimetype": "text/x-python",
   "name": "python",
   "nbconvert_exporter": "python",
   "pygments_lexer": "ipython3",
   "version": "3.6.4"
  }
 },
 "nbformat": 4,
 "nbformat_minor": 2
}

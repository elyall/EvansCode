{
 "cells": [
  {
   "cell_type": "code",
   "execution_count": 97,
   "metadata": {},
   "outputs": [
    {
     "ename": "ModuleNotFoundError",
     "evalue": "No module named 'interact'",
     "output_type": "error",
     "traceback": [
      "\u001b[0;31m---------------------------------------------------------------------------\u001b[0m",
      "\u001b[0;31mModuleNotFoundError\u001b[0m                       Traceback (most recent call last)",
      "\u001b[0;32m<ipython-input-97-75205a68dd1b>\u001b[0m in \u001b[0;36m<module>\u001b[0;34m()\u001b[0m\n\u001b[1;32m      5\u001b[0m \u001b[0;32mfrom\u001b[0m \u001b[0mitertools\u001b[0m \u001b[0;32mimport\u001b[0m \u001b[0mcompress\u001b[0m\u001b[0;34m\u001b[0m\u001b[0m\n\u001b[1;32m      6\u001b[0m \u001b[0;32mfrom\u001b[0m \u001b[0mskimage\u001b[0m \u001b[0;32mimport\u001b[0m \u001b[0mio\u001b[0m\u001b[0;34m\u001b[0m\u001b[0m\n\u001b[0;32m----> 7\u001b[0;31m \u001b[0;32mimport\u001b[0m \u001b[0mipywidgets\u001b[0m \u001b[0;32mas\u001b[0m \u001b[0mwidgets\u001b[0m\u001b[0;34m,\u001b[0m \u001b[0minteract\u001b[0m\u001b[0;34m\u001b[0m\u001b[0m\n\u001b[0m\u001b[1;32m      8\u001b[0m \u001b[0;34m\u001b[0m\u001b[0m\n\u001b[1;32m      9\u001b[0m \u001b[0;34m\u001b[0m\u001b[0m\n",
      "\u001b[0;31mModuleNotFoundError\u001b[0m: No module named 'interact'"
     ]
    }
   ],
   "source": [
    "import pandas as pd\n",
    "import pickle\n",
    "import numpy as np\n",
    "import matplotlib.pyplot as plt\n",
    "from itertools import compress\n",
    "from skimage import io\n",
    "import ipywidgets as widgets\n",
    "\n",
    "\n",
    "img_base = '/media/elyall/Data/7736/180117/000/7736_300_000_'\n",
    "ext = '.tif'\n",
    "\n",
    "csv = '/home/elyall/Dropbox/Data/Amir/7736/7736_300_000_exp_AnalysisInfo_14.csv'\n",
    "\n",
    "pkl = '/home/elyall/Dropbox/Data/Amir/7736/7736_tracings.pkl'\n",
    "\n",
    "Trial = 1"
   ]
  },
  {
   "cell_type": "code",
   "execution_count": 57,
   "metadata": {},
   "outputs": [],
   "source": [
    "# Load in experiment data\n",
    "\n",
    "# exp_file = '/media/elyall/Data/7736/180117/7736_265_001.exp'\n",
    "# myfile = h5py.File(exp_file,'r')\n",
    "# StimID = myfile['/TrialInfo/StimID'].value[:].astype('int')\n",
    "# myfile.close()\n",
    "\n",
    "data = pd.read_csv(csv)\n",
    "\n",
    "with open(pkl, 'rb') as f:\n",
    "    tracings = pickle.load(f)\n",
    "    "
   ]
  },
  {
   "cell_type": "code",
   "execution_count": 119,
   "metadata": {},
   "outputs": [
    {
     "data": {
      "application/vnd.jupyter.widget-view+json": {
       "model_id": "a810daa95e1d42c3ad3abd3f2af11033",
       "version_major": 2,
       "version_minor": 0
      },
      "text/html": [
       "<p>Failed to display Jupyter Widget of type <code>interactive</code>.</p>\n",
       "<p>\n",
       "  If you're reading this message in the Jupyter Notebook or JupyterLab Notebook, it may mean\n",
       "  that the widgets JavaScript is still loading. If this message persists, it\n",
       "  likely means that the widgets JavaScript library is either not installed or\n",
       "  not enabled. See the <a href=\"https://ipywidgets.readthedocs.io/en/stable/user_install.html\">Jupyter\n",
       "  Widgets Documentation</a> for setup instructions.\n",
       "</p>\n",
       "<p>\n",
       "  If you're reading this message in another frontend (for example, a static\n",
       "  rendering on GitHub or <a href=\"https://nbviewer.jupyter.org/\">NBViewer</a>),\n",
       "  it may mean that your frontend doesn't currently support widgets.\n",
       "</p>\n"
      ],
      "text/plain": [
       "interactive(children=(IntSlider(value=1, description='Trial', max=603), IntSlider(value=60, description='img_index', max=300, min=1), Output()), _dom_classes=('widget-interact',))"
      ]
     },
     "metadata": {},
     "output_type": "display_data"
    },
    {
     "data": {
      "text/plain": [
       "<function __main__.plot_output>"
      ]
     },
     "execution_count": 119,
     "metadata": {},
     "output_type": "execute_result"
    }
   ],
   "source": [
    "def plot_output(Trial=1, img_index=60):\n",
    "    \n",
    "    # Gather and normalize whisker angles\n",
    "    angle = tracings[0]['angle'][Trial-1]\n",
    "    angle = [angle[a] for a in np.arange(1,6)]\n",
    "    angle = [a - np.min(a) for a in angle]\n",
    "    angle = [a/np.max(a) for a in angle]\n",
    "    \n",
    "#     if not ax.all():\n",
    "    fig, ax = plt.subplots(1,2,figsize=(10,5))\n",
    "    \n",
    "    # Load and display image with overlays\n",
    "    imgs = io.imread(img_base + \"%04d\" % tracings[1][Trial] + ext)\n",
    "    ax[0].imshow(imgs[img_index], cmap='gray')\n",
    "    ax[0].axis('off')\n",
    "    # overlay whisker traces\n",
    "    # overlay stim traces\n",
    "\n",
    "    # Display angles\n",
    "    x = np.linspace(0,1,300)\n",
    "    for ind, a in enumerate(angle):\n",
    "        ax[1].plot(x,a+ind+.5)\n",
    "    ax[1].set_yticks(np.arange(1,6))\n",
    "    ax[1].set_yticklabels(['C1','C2','B1','D1','G'])\n",
    "    ax[1].set_xlabel('Time (s)')\n",
    "    # overlay touch events\n",
    "    \n",
    "\n",
    "widgets.interact(plot_output, Trial=(0,np.size(tracings[1])-1), img_index=(1,300))"
   ]
  }
 ],
 "metadata": {
  "kernelspec": {
   "display_name": "Python 3",
   "language": "python",
   "name": "python3"
  },
  "language_info": {
   "codemirror_mode": {
    "name": "ipython",
    "version": 3
   },
   "file_extension": ".py",
   "mimetype": "text/x-python",
   "name": "python",
   "nbconvert_exporter": "python",
   "pygments_lexer": "ipython3",
   "version": "3.6.4"
  }
 },
 "nbformat": 4,
 "nbformat_minor": 2
}

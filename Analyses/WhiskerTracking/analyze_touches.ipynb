{
 "cells": [
  {
   "cell_type": "code",
   "execution_count": null,
   "metadata": {},
   "outputs": [],
   "source": [
    "import pandas as pd\n",
    "import pickle\n",
    "import numpy as np\n",
    "import matplotlib.pyplot as plt\n",
    "from itertools import compress\n",
    "from scipy.io import loadmat\n",
    "\n",
    "# ID = '6994'\n",
    "# ID = '7736'\n",
    "ID = '7737'\n",
    "\n",
    "Dir = '/home/elyall/Dropbox/Data/Amir/'\n",
    "# csv = Dir + '6994/6994_210_000_exp_AnalysisInfo_14.csv'\n",
    "# csv = Dir + '7736/7736_300_000_exp_AnalysisInfo_14.csv'\n",
    "csv = Dir + '/7737/7737_291_000_exp_AnalysisInfo_14.csv'\n",
    "data = pd.read_csv(csv)\n",
    "\n",
    "# pkl = Dir + '6994/6994_tracings.pkl'\n",
    "# pkl = Dir + '7736/7736_tracings.pkl'\n",
    "pkl = Dir + '7737/7737_tracings.pkl'\n",
    "\n",
    "with open(pkl, 'rb') as f:\n",
    "    tracings = pickle.load(f)\n",
    "\n",
    "mat = loadmat(Dir + '7737/7737_291_000_exp_whisker_names.mat')\n"
   ]
  },
  {
   "cell_type": "code",
   "execution_count": null,
   "metadata": {},
   "outputs": [],
   "source": [
    "print(list(data.columns))\n",
    "mat['whisker_names'][0]"
   ]
  },
  {
   "cell_type": "code",
   "execution_count": null,
   "metadata": {},
   "outputs": [],
   "source": [
    "# Compute mean number of touches per whisker\n",
    "def avg_touches(data, index):\n",
    "    num_touches = data[['num_touches_'+w for w in np.arange(1,6).astype('str')]]\n",
    "    num_touches = num_touches[data['evan_trials_inliers']==True]\n",
    "    mean = np.nanmean(num_touches, axis=0)\n",
    "    n = np.sum(~np.isnan(num_touches), axis=0).values\n",
    "    se = np.divide(1.96*np.nanstd(num_touches, axis=0), np.sqrt(n))\n",
    "    return mean, se, num_touches\n",
    "\n",
    "avg, se, num_touches = avg_touches(data, data['evan_trials_inliers'])"
   ]
  },
  {
   "cell_type": "code",
   "execution_count": null,
   "metadata": {},
   "outputs": [],
   "source": [
    "# Plot output\n",
    "x = list(range(1,6))\n",
    "# plt.violinplot(num_touches)\n",
    "plt.plot(x, avg)\n",
    "plt.fill_between(x, avg-se, avg+se, alpha=.1)\n",
    "plt.xticks(x)\n",
    "plt.ylabel('# touches')\n",
    "plt.xlabel('whisker')\n",
    "\n",
    "plt.savefig(ID + '_avg_touches.pdf')"
   ]
  },
  {
   "cell_type": "code",
   "execution_count": null,
   "metadata": {
    "scrolled": true
   },
   "outputs": [],
   "source": [
    "# Pull out angle\n",
    "def gather_angle(tracings):\n",
    "    num_frames = 10\n",
    "    angle = [[] for _ in range(5)]\n",
    "    for ind in np.arange(6): # whisker index\n",
    "        for t in range(len(tracings[1])): # trial\n",
    "            if ind in tracings[0]['touch'][t]: # whisker stimulated\n",
    "                for f in tracings[0]['touch'][t][ind]: # touch event\n",
    "                    angle[ind-1].append(tracings[0]['angle'][t][ind][f-num_frames:f+num_frames+1])\n",
    "    num_frames = num_frames*2+1\n",
    "    for ind in range(5):\n",
    "        frames = np.array([len(x) for x in angle[ind]])\n",
    "        angle[ind] = np.vstack(list(compress(angle[ind], frames==num_frames)))\n",
    "    return angle, num_frames\n",
    "\n",
    "# Compute mean of angle & its derivative\n",
    "def avg_angle(angle, x):\n",
    "    mean_angle = []\n",
    "    se_angle = []\n",
    "    mean_deriv = []\n",
    "    se_deriv = []\n",
    "    for a in angle:\n",
    "        mean_angle.append(np.mean(a, axis=0))\n",
    "        n, _ = np.shape(a)\n",
    "        se_angle.append(1.96*np.nanstd(a, axis=0)/np.sqrt(n))\n",
    "        deriv = np.gradient(a, x, axis=1)\n",
    "        mean_deriv.append(np.mean(deriv, axis=0))\n",
    "        se_deriv.append(1.96*np.nanstd(deriv, axis=0)/np.sqrt(n))\n",
    "    return mean_angle, se_angle, mean_deriv, se_deriv\n",
    "    \n",
    "x = np.linspace(1/300,num_frames/300,num_frames)#*1000\n",
    "angle, num_frames = gather_angle(tracings)\n",
    "mean_angle, se_angle, mean_deriv, se_deriv = avg_angle(angle, x)\n",
    "mean_angle = [m-np.mean(m) for m in mean_angle]\n",
    "mean_angle = [m-m[0] for m in mean_angle]\n",
    "x = x*1000"
   ]
  },
  {
   "cell_type": "code",
   "execution_count": null,
   "metadata": {},
   "outputs": [],
   "source": [
    "# Plot output\n",
    "fig, ax = plt.subplots(1, 2, figsize=(20,10))\n",
    "# ax = [ax,ax.twinx()]\n",
    "for m, s1, d, s2 in zip(mean_angle, se_angle, mean_deriv, se_deriv):\n",
    "    # ax[0].errorbar(x, m, s)\n",
    "    ax[0].plot(x, m)\n",
    "    ax[0].fill_between(x, m-s1, m+s1, alpha=0.1, antialiased=True)\n",
    "    ax[1].plot(x, d)\n",
    "    ax[1].fill_between(x, d-s2, d+s2, alpha=0.1, antialiased=True)\n",
    "ax[0].set_ylabel('angle (degrees)')\n",
    "[a.set_xlabel('time (msec)') for a in ax]\n",
    "ax[0].legend(np.arange(1,6).astype('str'))\n",
    "ax[1].set_ylabel('delta angle (degrees/sec)')\n",
    "\n",
    "plt.savefig(ID + '_avg_angle.pdf')"
   ]
  }
 ],
 "metadata": {
  "kernelspec": {
   "display_name": "Python 3",
   "language": "python",
   "name": "python3"
  },
  "language_info": {
   "codemirror_mode": {
    "name": "ipython",
    "version": 3
   },
   "file_extension": ".py",
   "mimetype": "text/x-python",
   "name": "python",
   "nbconvert_exporter": "python",
   "pygments_lexer": "ipython3",
   "version": "3.6.4"
  }
 },
 "nbformat": 4,
 "nbformat_minor": 2
}
